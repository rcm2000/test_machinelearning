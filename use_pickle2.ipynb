{
 "cells": [
  {
   "cell_type": "code",
   "execution_count": 2,
   "id": "e3b5d1a2",
   "metadata": {},
   "outputs": [],
   "source": [
    "import pickle"
   ]
  },
  {
   "cell_type": "code",
   "execution_count": null,
   "id": "49d006ed",
   "metadata": {},
   "outputs": [],
   "source": [
    "fv_load = pickle.load(open('./saves/favorite_save.pkl','rb'))\n",
    "fv_load"
   ]
  },
  {
   "cell_type": "code",
   "execution_count": null,
   "id": "1f9b9113",
   "metadata": {},
   "outputs": [],
   "source": [
    "type(fv_load)"
   ]
  },
  {
   "cell_type": "code",
   "execution_count": null,
   "id": "821eb271",
   "metadata": {},
   "outputs": [],
   "source": [
    "fv_load['tiger']"
   ]
  },
  {
   "cell_type": "code",
   "execution_count": null,
   "id": "aafcd26c",
   "metadata": {},
   "outputs": [],
   "source": [
    "autompg_lr = pickle.load(open('./saves/autompg_lr.pkl','rb'))\n",
    "autompg_lr"
   ]
  },
  {
   "cell_type": "code",
   "execution_count": null,
   "id": "5a5be47c",
   "metadata": {},
   "outputs": [],
   "source": [
    "type(autompg_lr)"
   ]
  },
  {
   "cell_type": "code",
   "execution_count": null,
   "id": "35a4cb95",
   "metadata": {},
   "outputs": [],
   "source": [
    "autompg_lr.predict([[3504.0,8]])"
   ]
  },
  {
   "cell_type": "code",
   "execution_count": 4,
   "id": "78b51ee1",
   "metadata": {},
   "outputs": [],
   "source": [
    "ad_load = pickle.load(open('./saves/advertising_logi.pkl','rb'))"
   ]
  },
  {
   "cell_type": "code",
   "execution_count": 5,
   "id": "b8bf2751",
   "metadata": {},
   "outputs": [
    {
     "data": {
      "text/plain": [
       "LogisticRegression()"
      ]
     },
     "execution_count": 5,
     "metadata": {},
     "output_type": "execute_result"
    }
   ],
   "source": [
    "ad_load"
   ]
  },
  {
   "cell_type": "code",
   "execution_count": null,
   "id": "17a2df53",
   "metadata": {},
   "outputs": [],
   "source": [
    "ad_load.pre"
   ]
  }
 ],
 "metadata": {
  "kernelspec": {
   "display_name": "Python 3",
   "language": "python",
   "name": "python3"
  },
  "language_info": {
   "codemirror_mode": {
    "name": "ipython",
    "version": 3
   },
   "file_extension": ".py",
   "mimetype": "text/x-python",
   "name": "python",
   "nbconvert_exporter": "python",
   "pygments_lexer": "ipython3",
   "version": "3.6.4"
  }
 },
 "nbformat": 4,
 "nbformat_minor": 5
}
